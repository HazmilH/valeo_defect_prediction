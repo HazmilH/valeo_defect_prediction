{
 "cells": [
  {
   "cell_type": "code",
   "execution_count": 1,
   "metadata": {
    "ExecuteTime": {
     "end_time": "2020-12-30T18:53:34.785563Z",
     "start_time": "2020-12-30T18:53:33.359858Z"
    }
   },
   "outputs": [],
   "source": [
    "import numpy as np\n",
    "import pandas as pd\n",
    "from matplotlib import pyplot as plt\n",
    "import seaborn as sns\n",
    "%matplotlib notebook\n",
    "%matplotlib inline\n",
    "pd.options.display.max_columns = None"
   ]
  },
  {
   "cell_type": "code",
   "execution_count": 2,
   "metadata": {
    "ExecuteTime": {
     "end_time": "2020-12-30T18:53:42.260991Z",
     "start_time": "2020-12-30T18:53:42.134619Z"
    }
   },
   "outputs": [
    {
     "name": "stdout",
     "output_type": "stream",
     "text": [
      "\u001b[01;34m../data/processed/\u001b[00m\r\n",
      "└── valeo_processed.csv\r\n",
      "\r\n",
      "0 directories, 1 file\r\n"
     ]
    }
   ],
   "source": [
    "!tree ../data/processed/"
   ]
  },
  {
   "cell_type": "code",
   "execution_count": 4,
   "metadata": {
    "ExecuteTime": {
     "end_time": "2020-12-30T18:54:30.801480Z",
     "start_time": "2020-12-30T18:54:30.727662Z"
    }
   },
   "outputs": [
    {
     "data": {
      "text/html": [
       "<div>\n",
       "<style scoped>\n",
       "    .dataframe tbody tr th:only-of-type {\n",
       "        vertical-align: middle;\n",
       "    }\n",
       "\n",
       "    .dataframe tbody tr th {\n",
       "        vertical-align: top;\n",
       "    }\n",
       "\n",
       "    .dataframe thead th {\n",
       "        text-align: right;\n",
       "    }\n",
       "</style>\n",
       "<table border=\"1\" class=\"dataframe\">\n",
       "  <thead>\n",
       "    <tr style=\"text-align: right;\">\n",
       "      <th></th>\n",
       "      <th>date</th>\n",
       "      <th>product_code</th>\n",
       "      <th>V_1_angle_value</th>\n",
       "      <th>SnapRingPeakForce_value</th>\n",
       "      <th>V_2_angle_value</th>\n",
       "      <th>Rodage_I_mesure_value</th>\n",
       "      <th>SnapRingFinalStroke_value</th>\n",
       "      <th>Vissage_M8_torque_value</th>\n",
       "      <th>Capuchon_insertion_mesure</th>\n",
       "      <th>Rodage_U_mesure_value</th>\n",
       "      <th>V_1_torque_value</th>\n",
       "      <th>StartLinePeakForce_value</th>\n",
       "      <th>Vissage_M8_angle_value</th>\n",
       "      <th>SnapRingMidPointForce_val</th>\n",
       "      <th>V_2_torque_value</th>\n",
       "      <th>Results_Global_v</th>\n",
       "    </tr>\n",
       "  </thead>\n",
       "  <tbody>\n",
       "    <tr>\n",
       "      <th>0</th>\n",
       "      <td>2019-04-20</td>\n",
       "      <td>1120</td>\n",
       "      <td>141.1</td>\n",
       "      <td>171.27</td>\n",
       "      <td>154.0</td>\n",
       "      <td>114.75</td>\n",
       "      <td>12.09</td>\n",
       "      <td>12.15</td>\n",
       "      <td>NaN</td>\n",
       "      <td>11.97</td>\n",
       "      <td>6.65</td>\n",
       "      <td>24.70</td>\n",
       "      <td>38.3</td>\n",
       "      <td>106.41</td>\n",
       "      <td>6.61</td>\n",
       "      <td>0</td>\n",
       "    </tr>\n",
       "    <tr>\n",
       "      <th>1</th>\n",
       "      <td>2019-04-20</td>\n",
       "      <td>1123</td>\n",
       "      <td>165.1</td>\n",
       "      <td>176.88</td>\n",
       "      <td>149.1</td>\n",
       "      <td>118.21</td>\n",
       "      <td>12.08</td>\n",
       "      <td>12.25</td>\n",
       "      <td>NaN</td>\n",
       "      <td>11.97</td>\n",
       "      <td>6.60</td>\n",
       "      <td>25.83</td>\n",
       "      <td>16.9</td>\n",
       "      <td>97.73</td>\n",
       "      <td>6.61</td>\n",
       "      <td>0</td>\n",
       "    </tr>\n",
       "    <tr>\n",
       "      <th>2</th>\n",
       "      <td>2019-04-20</td>\n",
       "      <td>1124</td>\n",
       "      <td>186.6</td>\n",
       "      <td>169.28</td>\n",
       "      <td>133.1</td>\n",
       "      <td>121.10</td>\n",
       "      <td>12.10</td>\n",
       "      <td>12.12</td>\n",
       "      <td>NaN</td>\n",
       "      <td>11.97</td>\n",
       "      <td>6.61</td>\n",
       "      <td>24.48</td>\n",
       "      <td>25.0</td>\n",
       "      <td>101.98</td>\n",
       "      <td>6.61</td>\n",
       "      <td>0</td>\n",
       "    </tr>\n",
       "    <tr>\n",
       "      <th>3</th>\n",
       "      <td>2019-04-20</td>\n",
       "      <td>1125</td>\n",
       "      <td>153.1</td>\n",
       "      <td>175.58</td>\n",
       "      <td>176.7</td>\n",
       "      <td>114.19</td>\n",
       "      <td>12.08</td>\n",
       "      <td>12.21</td>\n",
       "      <td>NaN</td>\n",
       "      <td>11.97</td>\n",
       "      <td>6.60</td>\n",
       "      <td>25.13</td>\n",
       "      <td>16.3</td>\n",
       "      <td>96.26</td>\n",
       "      <td>6.61</td>\n",
       "      <td>0</td>\n",
       "    </tr>\n",
       "    <tr>\n",
       "      <th>4</th>\n",
       "      <td>2019-04-20</td>\n",
       "      <td>1126</td>\n",
       "      <td>147.6</td>\n",
       "      <td>167.72</td>\n",
       "      <td>131.6</td>\n",
       "      <td>116.65</td>\n",
       "      <td>12.09</td>\n",
       "      <td>12.17</td>\n",
       "      <td>NaN</td>\n",
       "      <td>11.97</td>\n",
       "      <td>6.63</td>\n",
       "      <td>21.41</td>\n",
       "      <td>35.3</td>\n",
       "      <td>92.31</td>\n",
       "      <td>6.61</td>\n",
       "      <td>0</td>\n",
       "    </tr>\n",
       "  </tbody>\n",
       "</table>\n",
       "</div>"
      ],
      "text/plain": [
       "         date  product_code  V_1_angle_value  SnapRingPeakForce_value  \\\n",
       "0  2019-04-20          1120            141.1                   171.27   \n",
       "1  2019-04-20          1123            165.1                   176.88   \n",
       "2  2019-04-20          1124            186.6                   169.28   \n",
       "3  2019-04-20          1125            153.1                   175.58   \n",
       "4  2019-04-20          1126            147.6                   167.72   \n",
       "\n",
       "   V_2_angle_value  Rodage_I_mesure_value  SnapRingFinalStroke_value  \\\n",
       "0            154.0                 114.75                      12.09   \n",
       "1            149.1                 118.21                      12.08   \n",
       "2            133.1                 121.10                      12.10   \n",
       "3            176.7                 114.19                      12.08   \n",
       "4            131.6                 116.65                      12.09   \n",
       "\n",
       "   Vissage_M8_torque_value  Capuchon_insertion_mesure  Rodage_U_mesure_value  \\\n",
       "0                    12.15                        NaN                  11.97   \n",
       "1                    12.25                        NaN                  11.97   \n",
       "2                    12.12                        NaN                  11.97   \n",
       "3                    12.21                        NaN                  11.97   \n",
       "4                    12.17                        NaN                  11.97   \n",
       "\n",
       "   V_1_torque_value  StartLinePeakForce_value  Vissage_M8_angle_value  \\\n",
       "0              6.65                     24.70                    38.3   \n",
       "1              6.60                     25.83                    16.9   \n",
       "2              6.61                     24.48                    25.0   \n",
       "3              6.60                     25.13                    16.3   \n",
       "4              6.63                     21.41                    35.3   \n",
       "\n",
       "   SnapRingMidPointForce_val  V_2_torque_value  Results_Global_v  \n",
       "0                     106.41              6.61                 0  \n",
       "1                      97.73              6.61                 0  \n",
       "2                     101.98              6.61                 0  \n",
       "3                      96.26              6.61                 0  \n",
       "4                      92.31              6.61                 0  "
      ]
     },
     "execution_count": 4,
     "metadata": {},
     "output_type": "execute_result"
    }
   ],
   "source": [
    "# upload data\n",
    "\n",
    "processed_path = '../data/processed/'\n",
    "df = pd.read_csv(processed_path+'valeo_processed.csv')\n",
    "df.head()"
   ]
  },
  {
   "cell_type": "code",
   "execution_count": 5,
   "metadata": {
    "ExecuteTime": {
     "end_time": "2020-12-30T18:55:03.210298Z",
     "start_time": "2020-12-30T18:55:03.197616Z"
    },
    "scrolled": true
   },
   "outputs": [
    {
     "data": {
      "text/plain": [
       "date                             0\n",
       "product_code                     0\n",
       "V_1_angle_value                  0\n",
       "SnapRingPeakForce_value          0\n",
       "V_2_angle_value                  0\n",
       "Rodage_I_mesure_value            0\n",
       "SnapRingFinalStroke_value        0\n",
       "Vissage_M8_torque_value          0\n",
       "Capuchon_insertion_mesure    18627\n",
       "Rodage_U_mesure_value            0\n",
       "V_1_torque_value                 0\n",
       "StartLinePeakForce_value         0\n",
       "Vissage_M8_angle_value           0\n",
       "SnapRingMidPointForce_val        0\n",
       "V_2_torque_value                 0\n",
       "Results_Global_v                 0\n",
       "dtype: int64"
      ]
     },
     "execution_count": 5,
     "metadata": {},
     "output_type": "execute_result"
    }
   ],
   "source": [
    "df.isna().sum()"
   ]
  },
  {
   "cell_type": "code",
   "execution_count": 41,
   "metadata": {
    "ExecuteTime": {
     "end_time": "2020-12-30T19:50:48.920451Z",
     "start_time": "2020-12-30T19:50:48.244181Z"
    },
    "scrolled": false
   },
   "outputs": [
    {
     "data": {
      "text/plain": [
       "<seaborn.axisgrid.FacetGrid at 0x7f8bd136d610>"
      ]
     },
     "execution_count": 41,
     "metadata": {},
     "output_type": "execute_result"
    },
    {
     "data": {
      "image/png": "[encoded data removed]",
      "text/plain": [
       "<Figure size 811.875x360 with 1 Axes>"
      ]
     },
     "metadata": {
      "needs_background": "light"
     },
     "output_type": "display_data"
    }
   ],
   "source": [
    "sns.displot(df, x='Capuchon_insertion_mesure', hue='Results_Global_v', height=5, aspect=2)"
   ]
  },
  {
   "cell_type": "code",
   "execution_count": 87,
   "metadata": {
    "ExecuteTime": {
     "end_time": "2020-12-30T20:03:19.818051Z",
     "start_time": "2020-12-30T20:03:19.805218Z"
    }
   },
   "outputs": [
    {
     "data": {
      "text/plain": [
       "0    18517\n",
       "1      110\n",
       "Name: Results_Global_v, dtype: int64"
      ]
     },
     "execution_count": 87,
     "metadata": {},
     "output_type": "execute_result"
    }
   ],
   "source": [
    "df_null = df[df['Capuchon_insertion_mesure'].isnull()]\n",
    "df_null['Results_Global_v'].value_counts()"
   ]
  },
  {
   "cell_type": "code",
   "execution_count": 83,
   "metadata": {
    "ExecuteTime": {
     "end_time": "2020-12-30T20:01:59.633035Z",
     "start_time": "2020-12-30T20:01:59.620063Z"
    }
   },
   "outputs": [
    {
     "data": {
      "text/plain": [
       "0    34210\n",
       "1      305\n",
       "Name: Results_Global_v, dtype: int64"
      ]
     },
     "execution_count": 83,
     "metadata": {},
     "output_type": "execute_result"
    }
   ],
   "source": [
    "df_not_null = df[df['Capuchon_insertion_mesure'] != df['Capuchon_insertion_mesure'].isnull()]\n",
    "df_not_null['Results_Global_v'].value_counts()"
   ]
  },
  {
   "cell_type": "code",
   "execution_count": 89,
   "metadata": {
    "ExecuteTime": {
     "end_time": "2020-12-30T20:04:59.058130Z",
     "start_time": "2020-12-30T20:04:59.046549Z"
    }
   },
   "outputs": [],
   "source": [
    "df.dropna(axis=1, inplace=True)"
   ]
  },
  {
   "cell_type": "code",
   "execution_count": 94,
   "metadata": {
    "ExecuteTime": {
     "end_time": "2020-12-30T20:08:31.754724Z",
     "start_time": "2020-12-30T20:08:31.749440Z"
    }
   },
   "outputs": [
    {
     "data": {
      "text/plain": [
       "Index(['date', 'product_code', 'V_1_angle_value', 'SnapRingPeakForce_value',\n",
       "       'V_2_angle_value', 'Rodage_I_mesure_value', 'SnapRingFinalStroke_value',\n",
       "       'Vissage_M8_torque_value', 'Rodage_U_mesure_value', 'V_1_torque_value',\n",
       "       'StartLinePeakForce_value', 'Vissage_M8_angle_value',\n",
       "       'SnapRingMidPointForce_val', 'V_2_torque_value', 'Results_Global_v'],\n",
       "      dtype='object')"
      ]
     },
     "execution_count": 94,
     "metadata": {},
     "output_type": "execute_result"
    }
   ],
   "source": [
    "df.columns"
   ]
  },
  {
   "cell_type": "code",
   "execution_count": 97,
   "metadata": {
    "ExecuteTime": {
     "end_time": "2020-12-30T20:09:49.490610Z",
     "start_time": "2020-12-30T20:09:49.486281Z"
    }
   },
   "outputs": [],
   "source": [
    "X = df.iloc[:, 2:-1]\n",
    "y = df['Results_Global_v']"
   ]
  },
  {
   "cell_type": "code",
   "execution_count": 118,
   "metadata": {
    "ExecuteTime": {
     "end_time": "2020-12-30T20:15:56.368738Z",
     "start_time": "2020-12-30T20:15:56.206013Z"
    }
   },
   "outputs": [
    {
     "data": {
      "text/plain": [
       "array([0.396497  , 0.26941041, 0.19165859, 0.06361637, 0.05620277])"
      ]
     },
     "execution_count": 118,
     "metadata": {},
     "output_type": "execute_result"
    }
   ],
   "source": [
    "# PCA\n",
    "from sklearn.decomposition import PCA\n",
    "\n",
    "# Let's using PCA from sklearn to go from 3 to 2 dimensions\n",
    "pca = PCA(n_components=5) \n",
    "\n",
    "# if n_components >= 1, then n_components will be the number of resulting dimensions\n",
    "\n",
    "# first we perform mean normalization\n",
    "X_centered = X - X.mean(axis=0)\n",
    "\n",
    "pca.fit(X_centered)\n",
    "X_pca = pca.transform(X_centered)\n",
    "\n",
    "pca.explained_variance_ratio_\n",
    "# np.sum(pca.explained_variance_ratio_)"
   ]
  },
  {
   "cell_type": "code",
   "execution_count": 122,
   "metadata": {
    "ExecuteTime": {
     "end_time": "2020-12-30T20:20:37.744556Z",
     "start_time": "2020-12-30T20:20:37.710037Z"
    }
   },
   "outputs": [],
   "source": [
    "from sklearn.model_selection import train_test_split\n",
    "from sklearn.preprocessing import StandardScaler, MinMaxScaler\n",
    "\n",
    "X_train, X_test, y_train, y_test = train_test_split(X, y, test_size=0.2, random_state=1234, stratify=y)\n",
    "\n",
    "scaler = StandardScaler()\n",
    "\n",
    "X_train = scaler.fit_transform(X_train)\n",
    "X_test = scaler.transform(X_test)"
   ]
  },
  {
   "cell_type": "code",
   "execution_count": 130,
   "metadata": {
    "ExecuteTime": {
     "end_time": "2020-12-30T20:24:06.990079Z",
     "start_time": "2020-12-30T20:24:06.982427Z"
    }
   },
   "outputs": [
    {
     "data": {
      "text/plain": [
       "0    27368\n",
       "1      244\n",
       "Name: Results_Global_v, dtype: int64"
      ]
     },
     "execution_count": 130,
     "metadata": {},
     "output_type": "execute_result"
    }
   ],
   "source": [
    "y_train.value_counts()"
   ]
  },
  {
   "cell_type": "code",
   "execution_count": 131,
   "metadata": {
    "ExecuteTime": {
     "end_time": "2020-12-30T20:24:12.437988Z",
     "start_time": "2020-12-30T20:24:12.430510Z"
    }
   },
   "outputs": [
    {
     "data": {
      "text/plain": [
       "0    6842\n",
       "1      61\n",
       "Name: Results_Global_v, dtype: int64"
      ]
     },
     "execution_count": 131,
     "metadata": {},
     "output_type": "execute_result"
    }
   ],
   "source": [
    "y_test.value_counts()"
   ]
  },
  {
   "cell_type": "code",
   "execution_count": 121,
   "metadata": {
    "ExecuteTime": {
     "end_time": "2020-12-30T20:19:32.211386Z",
     "start_time": "2020-12-30T20:19:32.205781Z"
    }
   },
   "outputs": [
    {
     "data": {
      "text/plain": [
       "((27612, 12), (6903, 12), (27612,), (6903,))"
      ]
     },
     "execution_count": 121,
     "metadata": {},
     "output_type": "execute_result"
    }
   ],
   "source": [
    "X_train.shape,  X_test.shape,  y_train.shape,  y_test.shape"
   ]
  },
  {
   "cell_type": "code",
   "execution_count": 125,
   "metadata": {
    "ExecuteTime": {
     "end_time": "2020-12-30T20:22:58.526780Z",
     "start_time": "2020-12-30T20:22:58.414335Z"
    }
   },
   "outputs": [
    {
     "data": {
      "text/plain": [
       "0.991163262349703"
      ]
     },
     "execution_count": 125,
     "metadata": {},
     "output_type": "execute_result"
    }
   ],
   "source": [
    "from sklearn.linear_model import LogisticRegression\n",
    "\n",
    "model = LogisticRegression()\n",
    "model.fit(X_train, y_train)\n",
    "model.score(X_test, y_test)"
   ]
  },
  {
   "cell_type": "code",
   "execution_count": null,
   "metadata": {},
   "outputs": [],
   "source": []
  }
 ],
 "metadata": {
  "kernelspec": {
   "display_name": "Python 3",
   "language": "python",
   "name": "python3"
  },
  "language_info": {
   "codemirror_mode": {
    "name": "ipython",
    "version": 3
   },
   "file_extension": ".py",
   "mimetype": "text/x-python",
   "name": "python",
   "nbconvert_exporter": "python",
   "pygments_lexer": "ipython3",
   "version": "3.7.6"
  },
  "toc": {
   "base_numbering": 1,
   "nav_menu": {},
   "number_sections": true,
   "sideBar": true,
   "skip_h1_title": false,
   "title_cell": "Table of Contents",
   "title_sidebar": "Contents",
   "toc_cell": false,
   "toc_position": {},
   "toc_section_display": true,
   "toc_window_display": false
  },
  "varInspector": {
   "cols": {
    "lenName": 16,
    "lenType": 16,
    "lenVar": 40
   },
   "kernels_config": {
    "python": {
     "delete_cmd_postfix": "",
     "delete_cmd_prefix": "del ",
     "library": "var_list.py",
     "varRefreshCmd": "print(var_dic_list())"
    },
    "r": {
     "delete_cmd_postfix": ") ",
     "delete_cmd_prefix": "rm(",
     "library": "var_list.r",
     "varRefreshCmd": "cat(var_dic_list()) "
    }
   },
   "types_to_exclude": [
    "module",
    "function",
    "builtin_function_or_method",
    "instance",
    "_Feature"
   ],
   "window_display": false
  }
 },
 "nbformat": 4,
 "nbformat_minor": 4
}
